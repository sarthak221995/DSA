{
  "nbformat": 4,
  "nbformat_minor": 0,
  "metadata": {
    "colab": {
      "provenance": [],
      "toc_visible": true,
      "authorship_tag": "ABX9TyN2KX9I1izZDNDl3MiEMbGr",
      "include_colab_link": true
    },
    "kernelspec": {
      "name": "python3",
      "display_name": "Python 3"
    },
    "language_info": {
      "name": "python"
    }
  },
  "cells": [
    {
      "cell_type": "markdown",
      "metadata": {
        "id": "view-in-github",
        "colab_type": "text"
      },
      "source": [
        "<a href=\"https://colab.research.google.com/github/sarthak221995/DSA/blob/main/Recursion%201%20to%205%20%7C%20Striver_A2Z_Sheet.ipynb\" target=\"_parent\"><img src=\"https://colab.research.google.com/assets/colab-badge.svg\" alt=\"Open In Colab\"/></a>"
      ]
    },
    {
      "cell_type": "markdown",
      "source": [
        "# Recursion | Striver A2Z DSA Course"
      ],
      "metadata": {
        "id": "fCfLLLg6IWeO"
      }
    },
    {
      "cell_type": "markdown",
      "source": [
        "## 1. Print Name 5 Times Using Recursion"
      ],
      "metadata": {
        "id": "28maAuM4IGZO"
      }
    },
    {
      "cell_type": "markdown",
      "source": [
        "\n",
        "\n",
        "*   Time Complexity - O(n)\n",
        "*   Space Complexity - O(n)\n",
        "\n",
        "\n"
      ],
      "metadata": {
        "id": "8GkikxiGIyYQ"
      }
    },
    {
      "cell_type": "code",
      "source": [
        "def print_name(name, counter, n):\n",
        "  if counter == n:\n",
        "    return\n",
        "  print(name)\n",
        "  counter+=1\n",
        "  print_name(name,counter,n)\n",
        "\n",
        "print_name(\"Sarthak\",0,5)"
      ],
      "metadata": {
        "colab": {
          "base_uri": "https://localhost:8080/"
        },
        "id": "wTuNOG7YDLfw",
        "outputId": "d53b07b7-0087-436c-f4ed-3f5a37f0f135"
      },
      "execution_count": null,
      "outputs": [
        {
          "output_type": "stream",
          "name": "stdout",
          "text": [
            "Sarthak\n",
            "Sarthak\n",
            "Sarthak\n",
            "Sarthak\n",
            "Sarthak\n"
          ]
        }
      ]
    },
    {
      "cell_type": "markdown",
      "source": [
        "### Revision 1"
      ],
      "metadata": {
        "id": "nbN4yE5yjs5e"
      }
    },
    {
      "cell_type": "code",
      "source": [
        "def print_name(name, counter, n):\n",
        "  if counter == n:\n",
        "    return\n",
        "  print(name)\n",
        "  print_name(name,counter+1,n)\n",
        "\n",
        "print_name('Sarthak',0,5)"
      ],
      "metadata": {
        "colab": {
          "base_uri": "https://localhost:8080/"
        },
        "id": "rGdvdDokjnf4",
        "outputId": "41a8d348-590b-4898-caed-5890839ede60"
      },
      "execution_count": 26,
      "outputs": [
        {
          "output_type": "stream",
          "name": "stdout",
          "text": [
            "Sarthak\n",
            "Sarthak\n",
            "Sarthak\n",
            "Sarthak\n",
            "Sarthak\n"
          ]
        }
      ]
    },
    {
      "cell_type": "markdown",
      "source": [
        "\n",
        "\n",
        "---\n",
        "\n"
      ],
      "metadata": {
        "id": "nG-qtEbvJVq5"
      }
    },
    {
      "cell_type": "markdown",
      "source": [
        "## 2. Print Linearly From 1 to N"
      ],
      "metadata": {
        "id": "i4ErIwzqJEtF"
      }
    },
    {
      "cell_type": "markdown",
      "source": [
        "\n",
        "\n",
        "*   Time Complexity - O(n)\n",
        "*   Space Complexity - O(n)\n",
        "\n",
        "\n"
      ],
      "metadata": {
        "id": "QQ9ptUn7JSIx"
      }
    },
    {
      "cell_type": "code",
      "source": [
        "def print_name(counter, n):\n",
        "  if counter == n:\n",
        "    return\n",
        "  counter+=1\n",
        "  print(counter)\n",
        "  print_name(counter,n)\n",
        "\n",
        "print_name(0,5)"
      ],
      "metadata": {
        "colab": {
          "base_uri": "https://localhost:8080/"
        },
        "id": "bOAPZ5iJJD0e",
        "outputId": "09195da5-8ff4-45f0-d60d-8c4b4bfc676b"
      },
      "execution_count": null,
      "outputs": [
        {
          "output_type": "stream",
          "name": "stdout",
          "text": [
            "1\n",
            "2\n",
            "3\n",
            "4\n",
            "5\n"
          ]
        }
      ]
    },
    {
      "cell_type": "markdown",
      "source": [
        "### Revision 1"
      ],
      "metadata": {
        "id": "oT6nPly6kMRx"
      }
    },
    {
      "cell_type": "code",
      "source": [
        "def print_linear(n,counter):\n",
        "  if counter > n:\n",
        "    return\n",
        "  print(counter)\n",
        "  print_linear(n,counter+1)\n",
        "\n",
        "print_linear(5,1)"
      ],
      "metadata": {
        "colab": {
          "base_uri": "https://localhost:8080/"
        },
        "id": "u0QDp9OHkPK5",
        "outputId": "a3e13520-a4bf-47fe-a830-ce5f5dedcadd"
      },
      "execution_count": 28,
      "outputs": [
        {
          "output_type": "stream",
          "name": "stdout",
          "text": [
            "1\n",
            "2\n",
            "3\n",
            "4\n",
            "5\n"
          ]
        }
      ]
    },
    {
      "cell_type": "markdown",
      "source": [
        "\n",
        "\n",
        "---\n",
        "\n"
      ],
      "metadata": {
        "id": "wv0QZKADMLp1"
      }
    },
    {
      "cell_type": "markdown",
      "source": [
        "## 3. Print Linearly From 1 to N (BackTracking)"
      ],
      "metadata": {
        "id": "soCbcEN0MLdv"
      }
    },
    {
      "cell_type": "code",
      "source": [
        "def print_name(counter):\n",
        "  if counter < 1:\n",
        "    return\n",
        "  print_name(counter-1)\n",
        "  print(counter)\n",
        "\n",
        "print_name(5)"
      ],
      "metadata": {
        "colab": {
          "base_uri": "https://localhost:8080/"
        },
        "id": "optvT7MqMJuU",
        "outputId": "4e9c82e0-d846-41e1-b62e-4f896ff08435"
      },
      "execution_count": null,
      "outputs": [
        {
          "output_type": "stream",
          "name": "stdout",
          "text": [
            "1\n",
            "2\n",
            "3\n",
            "4\n",
            "5\n"
          ]
        }
      ]
    },
    {
      "cell_type": "markdown",
      "source": [
        "### Revision 1"
      ],
      "metadata": {
        "id": "G4YRuLUAkqLh"
      }
    },
    {
      "cell_type": "code",
      "source": [
        "def print_linear(n,counter):\n",
        "  if counter == 0:\n",
        "    return\n",
        "  print_linear(n,counter-1)\n",
        "  print(counter)\n",
        "\n",
        "print_linear(5,5)"
      ],
      "metadata": {
        "colab": {
          "base_uri": "https://localhost:8080/"
        },
        "id": "JWaoBHXekpK7",
        "outputId": "1574a9f1-a091-4b41-940c-b944aee15b65"
      },
      "execution_count": 29,
      "outputs": [
        {
          "output_type": "stream",
          "name": "stdout",
          "text": [
            "1\n",
            "2\n",
            "3\n",
            "4\n",
            "5\n"
          ]
        }
      ]
    },
    {
      "cell_type": "markdown",
      "source": [
        "\n",
        "\n",
        "---\n",
        "\n"
      ],
      "metadata": {
        "id": "OzgAC9G3JXpy"
      }
    },
    {
      "cell_type": "markdown",
      "source": [
        "## 4. Print Linearly From N to 1"
      ],
      "metadata": {
        "id": "y_4O6eQnJX--"
      }
    },
    {
      "cell_type": "code",
      "source": [
        "def print_name(counter):\n",
        "  if counter == 0:\n",
        "    return\n",
        "  print(counter)\n",
        "  counter-=1\n",
        "  print_name(counter)\n",
        "\n",
        "print_name(5)"
      ],
      "metadata": {
        "colab": {
          "base_uri": "https://localhost:8080/"
        },
        "id": "OxNBF5oIJcC7",
        "outputId": "390af047-4f3c-49be-ccf3-78e487b8b461"
      },
      "execution_count": null,
      "outputs": [
        {
          "output_type": "stream",
          "name": "stdout",
          "text": [
            "5\n",
            "4\n",
            "3\n",
            "2\n",
            "1\n"
          ]
        }
      ]
    },
    {
      "cell_type": "markdown",
      "source": [
        "### Revison 1"
      ],
      "metadata": {
        "id": "dZwM4Zjtk-aC"
      }
    },
    {
      "cell_type": "code",
      "source": [
        "def print_linear(n):\n",
        "  if n == 0:\n",
        "    return\n",
        "  print(n)\n",
        "  print_linear(n-1)\n",
        "\n",
        "print_linear(5)"
      ],
      "metadata": {
        "colab": {
          "base_uri": "https://localhost:8080/"
        },
        "id": "Wwzpin7Lk9_m",
        "outputId": "bef019bc-7c65-45df-e061-da9e38f7f57f"
      },
      "execution_count": 31,
      "outputs": [
        {
          "output_type": "stream",
          "name": "stdout",
          "text": [
            "5\n",
            "4\n",
            "3\n",
            "2\n",
            "1\n"
          ]
        }
      ]
    },
    {
      "cell_type": "markdown",
      "source": [
        "\n",
        "\n",
        "---\n",
        "\n"
      ],
      "metadata": {
        "id": "FGVxBUybMq_U"
      }
    },
    {
      "cell_type": "markdown",
      "source": [
        "## 5. Print Linearly From N to 1 (Backtracking)"
      ],
      "metadata": {
        "id": "xsolQfw_MrOD"
      }
    },
    {
      "cell_type": "code",
      "source": [
        "def print_name(counter,n):\n",
        "  if counter > n:\n",
        "    return\n",
        "  print_name(counter+1,n)\n",
        "  print(counter)\n",
        "\n",
        "print_name(1,5)"
      ],
      "metadata": {
        "colab": {
          "base_uri": "https://localhost:8080/"
        },
        "id": "qOxGwf1DMrbZ",
        "outputId": "c8313026-a551-4da1-c0fa-0abfe408cef4"
      },
      "execution_count": 1,
      "outputs": [
        {
          "output_type": "stream",
          "name": "stdout",
          "text": [
            "5\n",
            "4\n",
            "3\n",
            "2\n",
            "1\n"
          ]
        }
      ]
    },
    {
      "cell_type": "markdown",
      "source": [
        "### Revision 1"
      ],
      "metadata": {
        "id": "WjOaaDQUlH9a"
      }
    },
    {
      "cell_type": "code",
      "source": [
        "def print_linear(n,counter):\n",
        "  if counter > n:\n",
        "    return\n",
        "  print_linear(n,counter+1)\n",
        "  print(counter)\n",
        "\n",
        "print_linear(5,1)"
      ],
      "metadata": {
        "id": "AZilIQJnlG0N"
      },
      "execution_count": null,
      "outputs": []
    },
    {
      "cell_type": "markdown",
      "source": [
        "\n",
        "\n",
        "---\n",
        "\n"
      ],
      "metadata": {
        "id": "OU_wytYcz_MI"
      }
    },
    {
      "cell_type": "markdown",
      "source": [
        "## Sum of 1 to N Numbers [Functional]"
      ],
      "metadata": {
        "id": "0aYw2S65z_JN"
      }
    },
    {
      "cell_type": "code",
      "source": [
        "def n_sum(counter):\n",
        "  if counter == 1 :\n",
        "    return 1\n",
        "  return counter+n_sum(counter-1)\n",
        "\n",
        "n_sum(3)"
      ],
      "metadata": {
        "id": "ZixDpdHLz9-C",
        "colab": {
          "base_uri": "https://localhost:8080/"
        },
        "outputId": "d6bc9b9c-8a34-45a9-87d7-97236b9d5bba"
      },
      "execution_count": 38,
      "outputs": [
        {
          "output_type": "execute_result",
          "data": {
            "text/plain": [
              "6"
            ]
          },
          "metadata": {},
          "execution_count": 38
        }
      ]
    },
    {
      "cell_type": "markdown",
      "source": [
        "### Revision"
      ],
      "metadata": {
        "id": "IbnPRAwAlmXP"
      }
    },
    {
      "cell_type": "code",
      "source": [
        "def n_sum(counter):\n",
        "  if counter==0:\n",
        "    return 0\n",
        "  return counter + n_sum(counter-1)\n",
        "\n",
        "n_sum(3)"
      ],
      "metadata": {
        "colab": {
          "base_uri": "https://localhost:8080/"
        },
        "id": "YiubEUd04sfm",
        "outputId": "2fe48658-4cd5-4187-debc-f2f64d8cb2fb"
      },
      "execution_count": 35,
      "outputs": [
        {
          "output_type": "execute_result",
          "data": {
            "text/plain": [
              "6"
            ]
          },
          "metadata": {},
          "execution_count": 35
        }
      ]
    },
    {
      "cell_type": "markdown",
      "source": [
        "\n",
        "\n",
        "---\n",
        "\n"
      ],
      "metadata": {
        "id": "xQz9p1cL4h6b"
      }
    },
    {
      "cell_type": "markdown",
      "source": [
        "## Sum of 1 to N Numbers [Parametrised]"
      ],
      "metadata": {
        "id": "icb9Kf5l4iT5"
      }
    },
    {
      "cell_type": "code",
      "source": [
        "def n_sum(counter,total):\n",
        "  if counter < 1 :\n",
        "    print(total)\n",
        "    return\n",
        "  return n_sum(counter-1,total+counter)\n",
        "\n",
        "n_sum(3,0)"
      ],
      "metadata": {
        "id": "XdheGQMt04h9"
      },
      "execution_count": null,
      "outputs": []
    },
    {
      "cell_type": "markdown",
      "source": [
        "### Revision 1"
      ],
      "metadata": {
        "id": "g5nJSnlImDtV"
      }
    },
    {
      "cell_type": "code",
      "source": [
        "def n_sum(counter, total):\n",
        "  if counter==0:\n",
        "    return total\n",
        "  return n_sum(counter-1, total+counter)\n",
        "\n",
        "n_sum(3,0)"
      ],
      "metadata": {
        "colab": {
          "base_uri": "https://localhost:8080/"
        },
        "id": "1tKNZlEU0aBk",
        "outputId": "bc1804b7-941a-440d-db0f-3b1d99cb9a95"
      },
      "execution_count": 40,
      "outputs": [
        {
          "output_type": "execute_result",
          "data": {
            "text/plain": [
              "6"
            ]
          },
          "metadata": {},
          "execution_count": 40
        }
      ]
    },
    {
      "cell_type": "markdown",
      "source": [
        "\n",
        "\n",
        "---\n",
        "\n"
      ],
      "metadata": {
        "id": "pZ8Eb5EuV5vh"
      }
    },
    {
      "cell_type": "markdown",
      "source": [
        "## Reverse a Array"
      ],
      "metadata": {
        "id": "pmruhwG3V7ov"
      }
    },
    {
      "cell_type": "code",
      "source": [
        "def reverse(counter,arr):\n",
        "  if counter == len(arr)-1:\n",
        "    return\n",
        "  counter+=1\n",
        "  reverse(counter, arr)\n",
        "  print(arr[counter])\n",
        "\n",
        "arr = [1,2,3,4,5]\n",
        "reverse(-1,arr)"
      ],
      "metadata": {
        "colab": {
          "base_uri": "https://localhost:8080/"
        },
        "id": "ZrhU6lH_V75V",
        "outputId": "7d0ab5e3-d279-4c21-fb71-5c2d090bf5e2"
      },
      "execution_count": 9,
      "outputs": [
        {
          "output_type": "stream",
          "name": "stdout",
          "text": [
            "5\n",
            "4\n",
            "3\n",
            "2\n",
            "1\n"
          ]
        }
      ]
    },
    {
      "cell_type": "code",
      "source": [
        "def reverse_swap(l,r,arr):\n",
        "  if l==r:\n",
        "    return arr\n",
        "  temp = arr[l]\n",
        "  arr[l] = arr[r]\n",
        "  arr[r] = temp\n",
        "  return reverse_swap(l+1,r-1,arr)\n",
        "\n",
        "arr = [1,2,3,4,5]\n",
        "reverse_swap(0,len(arr)-1,arr)"
      ],
      "metadata": {
        "colab": {
          "base_uri": "https://localhost:8080/"
        },
        "id": "07Oi5spRX7CN",
        "outputId": "5c8b090d-5c82-46ec-bc51-1ecf37f82227"
      },
      "execution_count": 15,
      "outputs": [
        {
          "output_type": "execute_result",
          "data": {
            "text/plain": [
              "[5, 4, 3, 2, 1]"
            ]
          },
          "metadata": {},
          "execution_count": 15
        }
      ]
    },
    {
      "cell_type": "markdown",
      "source": [
        "\n",
        "\n",
        "### Revision 1\n",
        "\n"
      ],
      "metadata": {
        "id": "uPDSvDWimmXQ"
      }
    },
    {
      "cell_type": "code",
      "source": [
        "def reverse(i, arr, n):\n",
        "  if i >= n/2: return arr\n",
        "  temp = arr[i]\n",
        "  arr[i] =  arr[n-i-1]\n",
        "  arr[n-i-1] = temp\n",
        "  return reverse(i+1,arr,n)\n",
        "reverse(0,[1,2,3],3)\n"
      ],
      "metadata": {
        "colab": {
          "base_uri": "https://localhost:8080/"
        },
        "id": "0aAQ9jxgmo_r",
        "outputId": "50540ea1-890d-45dc-fdab-f4b7c2ec7006"
      },
      "execution_count": 44,
      "outputs": [
        {
          "output_type": "execute_result",
          "data": {
            "text/plain": [
              "[3, 2, 1]"
            ]
          },
          "metadata": {},
          "execution_count": 44
        }
      ]
    },
    {
      "cell_type": "markdown",
      "source": [
        "\n",
        "\n",
        "---\n",
        "\n"
      ],
      "metadata": {
        "id": "Vnr1BY3XZPDY"
      }
    },
    {
      "cell_type": "markdown",
      "source": [
        "## Palindrome"
      ],
      "metadata": {
        "id": "3SeG-PpVZMOv"
      }
    },
    {
      "cell_type": "code",
      "source": [
        "def palindrome(s,i,n):\n",
        "  if i>=n/2:\n",
        "    return True\n",
        "  if s[i] != s[n-i-1]:\n",
        "    return False\n",
        "  return palindrome(s,i+1,n)\n",
        "\n",
        "palindrome('abba',0,3)"
      ],
      "metadata": {
        "colab": {
          "base_uri": "https://localhost:8080/"
        },
        "id": "sWB-ZkW1ZR1U",
        "outputId": "eaa733bc-b13e-4296-d508-0b8f03b2ffcb"
      },
      "execution_count": 21,
      "outputs": [
        {
          "output_type": "execute_result",
          "data": {
            "text/plain": [
              "False"
            ]
          },
          "metadata": {},
          "execution_count": 21
        }
      ]
    },
    {
      "cell_type": "markdown",
      "source": [
        "### Revision 1"
      ],
      "metadata": {
        "id": "T1AxVUNsngRL"
      }
    },
    {
      "cell_type": "code",
      "source": [
        "def palindrome(i, arr, n):\n",
        "  if i >= n/2: return True\n",
        "  if arr[i] != arr[n-i-1] : return False\n",
        "  return palindrome(i+1,arr,n)\n",
        "palindrome(0,'aba',3)"
      ],
      "metadata": {
        "colab": {
          "base_uri": "https://localhost:8080/"
        },
        "id": "G8V3SOf0nhvu",
        "outputId": "242b6120-b97d-480d-9a9f-dec9b9f81073"
      },
      "execution_count": 47,
      "outputs": [
        {
          "output_type": "execute_result",
          "data": {
            "text/plain": [
              "True"
            ]
          },
          "metadata": {},
          "execution_count": 47
        }
      ]
    },
    {
      "cell_type": "markdown",
      "source": [
        "---"
      ],
      "metadata": {
        "id": "Idduzyq5aiGN"
      }
    },
    {
      "cell_type": "markdown",
      "source": [
        "## Fibonacci Number"
      ],
      "metadata": {
        "id": "G-mqiMKRaiXV"
      }
    },
    {
      "cell_type": "code",
      "source": [
        "def fibo(n):\n",
        "  if n <=1:\n",
        "    return n\n",
        "  return fibo(n-1) + fibo(n-2)\n",
        "fibo(3)"
      ],
      "metadata": {
        "colab": {
          "base_uri": "https://localhost:8080/"
        },
        "id": "xctHAY90amnT",
        "outputId": "6631e4e6-a42e-4b16-bc83-b4bdd6019b2d"
      },
      "execution_count": 22,
      "outputs": [
        {
          "output_type": "execute_result",
          "data": {
            "text/plain": [
              "2"
            ]
          },
          "metadata": {},
          "execution_count": 22
        }
      ]
    },
    {
      "cell_type": "markdown",
      "source": [
        "### Revision 1"
      ],
      "metadata": {
        "id": "srkRQXQ-nvYa"
      }
    },
    {
      "cell_type": "code",
      "source": [
        "def fibo(n):\n",
        "  if n <=1:\n",
        "    return n\n",
        "  return fibo(n-1) + fibo(n-2)\n",
        "fibo(3)"
      ],
      "metadata": {
        "colab": {
          "base_uri": "https://localhost:8080/"
        },
        "id": "v4SXxQqpnxkX",
        "outputId": "90eafc9d-d195-45a3-e3d7-6a058e86ef06"
      },
      "execution_count": 48,
      "outputs": [
        {
          "output_type": "execute_result",
          "data": {
            "text/plain": [
              "2"
            ]
          },
          "metadata": {},
          "execution_count": 48
        }
      ]
    },
    {
      "cell_type": "markdown",
      "source": [
        "\n",
        "\n",
        "---\n",
        "\n"
      ],
      "metadata": {
        "id": "TWk322tCjkzj"
      }
    },
    {
      "cell_type": "markdown",
      "source": [
        "# References\n",
        "\n",
        "\n",
        "1.   https://www.youtube.com/watch?v=yVdKa8dnKiE&list=PLgUwDviBIf0oF6QL8m22w1hIDC1vJ_BHz&index=8&pp=iAQB\n",
        "2.   https://www.youtube.com/watch?v=un6PLygfXrA&list=PLgUwDviBIf0oF6QL8m22w1hIDC1vJ_BHz&index=9\n",
        "3. https://www.youtube.com/watch?v=69ZCDFy-OUo&list=PLgUwDviBIf0oF6QL8m22w1hIDC1vJ_BHz&index=10\n",
        "4. https://www.youtube.com/watch?v=twuC1F6gLI8&list=PLgUwDviBIf0oF6QL8m22w1hIDC1vJ_BHz&index=11\n",
        "5. https://www.youtube.com/watch?v=kvRjNm4rVBE&list=PLgUwDviBIf0oF6QL8m22w1hIDC1vJ_BHz&index=12\n",
        "\n",
        "\n"
      ],
      "metadata": {
        "id": "V4DlnnhaIPa9"
      }
    }
  ]
}